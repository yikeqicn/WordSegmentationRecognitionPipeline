{
 "cells": [
  {
   "cell_type": "code",
   "execution_count": 1,
   "metadata": {},
   "outputs": [],
   "source": [
    "experiment=None"
   ]
  },
  {
   "cell_type": "code",
   "execution_count": 1,
   "metadata": {},
   "outputs": [
    {
     "name": "stderr",
     "output_type": "stream",
     "text": [
      "COMET INFO: old comet version (1.0.44) detected. current: 1.0.56 please update your comet lib with command: `pip install --no-cache-dir --upgrade comet_ml`\n",
      "COMET WARNING: Failing to collect the installed os packages\n",
      "COMET INFO: Experiment is live on comet.ml https://www.comet.ml/yikeqicn/ocr-pipeline/810e25fd9917468faf433d6a635911c9\n",
      "\n"
     ]
    }
   ],
   "source": [
    "# experiment (optional)\n",
    "from comet_ml import Experiment\n",
    "experiment = Experiment(api_key=\"YkPEmantOag1R1VOJmXz11hmt\", parse_args=False, project_name='ocr_pipeline')\n",
    "experiment.set_name('segmentation_adetct_debug')"
   ]
  },
  {
   "cell_type": "markdown",
   "metadata": {},
   "source": [
    "# Import"
   ]
  },
  {
   "cell_type": "code",
   "execution_count": 2,
   "metadata": {},
   "outputs": [],
   "source": [
    "import os\n",
    "from glob import glob\n",
    "import cv2\n",
    "import matplotlib.pyplot as plt\n",
    "import numpy as np\n",
    "from os.path import join, basename, dirname\n",
    "from numpy.random import choice, normal, rand, randint,uniform\n",
    "from functools import reduce\n",
    "from wordsegmentation.WordSegmentation import *\n",
    "import argparse\n",
    "from imutils.object_detection import non_max_suppression\n",
    "from operator import itemgetter\n",
    "from PIL import Image"
   ]
  },
  {
   "cell_type": "code",
   "execution_count": 3,
   "metadata": {},
   "outputs": [],
   "source": [
    "import numpy as np\n",
    "import argparse\n",
    "import time\n",
    "import cv2\n",
    "import os\n",
    "import tensorflow as tf\n",
    "from glob import glob\n",
    "from os.path import join, basename, dirname\n",
    "#from east.model import *\n",
    "from recognition.Model import Model, DecoderType\n",
    "from recognition.utils import log_image"
   ]
  },
  {
   "cell_type": "markdown",
   "metadata": {},
   "source": [
    "# Neat Text Detection"
   ]
  },
  {
   "cell_type": "code",
   "execution_count": 4,
   "metadata": {},
   "outputs": [],
   "source": [
    "########## Crop and Rotation Correct###############################\n",
    "\n",
    "def order_points(pts):\n",
    "\t# initialzie a list of coordinates that will be ordered\n",
    "\t# such that the first entry in the list is the top-left,\n",
    "\t# the second entry is the top-right, the third is the\n",
    "\t# bottom-right, and the fourth is the bottom-left\n",
    "\trect = np.zeros((4, 2), dtype = \"float32\")\n",
    " \n",
    "\t# the top-left point will have the smallest sum, whereas\n",
    "\t# the bottom-right point will have the largest sum\n",
    "\ts = pts.sum(axis = 1)\n",
    "\trect[0] = pts[np.argmin(s)]\n",
    "\trect[2] = pts[np.argmax(s)]\n",
    " \n",
    "\t# now, compute the difference between the points, the\n",
    "\t# top-right point will have the smallest difference,\n",
    "\t# whereas the bottom-left will have the largest difference\n",
    "\tdiff = np.diff(pts, axis = 1)\n",
    "\trect[1] = pts[np.argmin(diff)]\n",
    "\trect[3] = pts[np.argmax(diff)]\n",
    " \n",
    "\t# return the ordered coordinates\n",
    "\treturn rect\n",
    "\n",
    "def four_point_transform(image, pts):\n",
    "\t# obtain a consistent order of the points and unpack them\n",
    "\t# individually\n",
    "\trect = order_points(pts)\n",
    "\t(tl, tr, br, bl) = rect\n",
    " \n",
    "\t# compute the width of the new image, which will be the\n",
    "\t# maximum distance between bottom-right and bottom-left\n",
    "\t# x-coordiates or the top-right and top-left x-coordinates\n",
    "\twidthA = np.sqrt(((br[0] - bl[0]) ** 2) + ((br[1] - bl[1]) ** 2))\n",
    "\twidthB = np.sqrt(((tr[0] - tl[0]) ** 2) + ((tr[1] - tl[1]) ** 2))\n",
    "\tmaxWidth = max(int(widthA), int(widthB))\n",
    " \n",
    "\t# compute the height of the new image, which will be the\n",
    "\t# maximum distance between the top-right and bottom-right\n",
    "\t# y-coordinates or the top-left and bottom-left y-coordinates\n",
    "\theightA = np.sqrt(((tr[0] - br[0]) ** 2) + ((tr[1] - br[1]) ** 2))\n",
    "\theightB = np.sqrt(((tl[0] - bl[0]) ** 2) + ((tl[1] - bl[1]) ** 2))\n",
    "\tmaxHeight = max(int(heightA), int(heightB))\n",
    " \n",
    "\t# now that we have the dimensions of the new image, construct\n",
    "\t# the set of destination points to obtain a \"birds eye view\",\n",
    "\t# (i.e. top-down view) of the image, again specifying points\n",
    "\t# in the top-left, top-right, bottom-right, and bottom-left\n",
    "\t# order\n",
    "\tdst = np.array([\n",
    "\t\t[0, 0],\n",
    "\t\t[maxWidth - 1, 0],\n",
    "\t\t[maxWidth - 1, maxHeight - 1],\n",
    "\t\t[0, maxHeight - 1]], dtype = \"float32\")\n",
    " \n",
    "\t# compute the perspective transform matrix and then apply it\n",
    "\tM = cv2.getPerspectiveTransform(rect, dst)\n",
    "\twarped = cv2.warpPerspective(image, M, (maxWidth, maxHeight))\n",
    " \n",
    "\t# return the warped image\n",
    "\treturn warped\n",
    "\n",
    "\n",
    "#######################Detection######################################\n",
    "def preprocess(gray):\n",
    "    # 1. Sobel算子，x方向求梯度\n",
    "    sobel = cv2.Sobel(gray, cv2.CV_8U, 1, 0, ksize = 3)\n",
    "    # 2. 二值化\n",
    "    ret, binary = cv2.threshold(sobel, 200, 255, cv2.THRESH_OTSU+cv2.THRESH_BINARY) # second 0\n",
    "    #binary=255-gray\n",
    "    # 3. 膨胀和腐蚀操作的核函数\n",
    "    element1 = cv2.getStructuringElement(cv2.MORPH_RECT, (30, 9))\n",
    "    element2 = cv2.getStructuringElement(cv2.MORPH_RECT, (24, 6))\n",
    " \n",
    "    # 4. 膨胀一次，让轮廓突出\n",
    "    dilation = cv2.dilate(binary, element2, iterations = 2) #1\n",
    " \n",
    "    # 5. 腐蚀一次，去掉细节，如表格线等。注意这里去掉的是竖直的线\n",
    "    erosion = cv2.erode(dilation, element1, iterations = 1)\n",
    " \n",
    "    # 6. 再次膨胀，让轮廓明显一些\n",
    "    dilation2 = cv2.dilate(erosion, element2, iterations = 3)\n",
    " \n",
    "    # 7. 存储中间图片 \n",
    "    cv2.imwrite(\"binary.png\", binary)\n",
    "    cv2.imwrite(\"dilation.png\", dilation)\n",
    "    cv2.imwrite(\"erosion.png\", erosion)\n",
    "    cv2.imwrite(\"dilation2.png\", dilation2)\n",
    " \n",
    "    return dilation2\n",
    "def findTextRegion(img):\n",
    "    region = []\n",
    " \n",
    "    # 1. 查找轮廓\n",
    "    contours, hierarchy = cv2.findContours(img, cv2.RETR_TREE, cv2.CHAIN_APPROX_SIMPLE)\n",
    " \n",
    "    # 2. 筛选那些面积小的\n",
    "    for i in range(len(contours)):\n",
    "        cnt = contours[i]\n",
    "        # 计算该轮廓的面积\n",
    "        area = cv2.contourArea(cnt) \n",
    " \n",
    "        # 面积小的都筛选掉\n",
    "        if(area < 2000):\n",
    "            continue\n",
    " \n",
    "        # 轮廓近似，作用很小\n",
    "        epsilon = 0.001 * cv2.arcLength(cnt, True)\n",
    "        approx = cv2.approxPolyDP(cnt, epsilon, True)\n",
    " \n",
    "        # 找到最小的矩形，该矩形可能有方向\n",
    "        rect = cv2.minAreaRect(cnt)\n",
    "        #print \"rect is: \"\n",
    "        #print rect\n",
    " \n",
    "        # box是四个点的坐标\n",
    "        box = cv2.boxPoints(rect)\n",
    "        box = np.int0(box)\n",
    " \n",
    "        # 计算高和宽\n",
    "        height = abs(box[0][1] - box[2][1])\n",
    "        width = abs(box[0][0] - box[2][0])\n",
    " \n",
    "        # 筛选那些太细的矩形，留下扁的\n",
    "        if(height > width * 1.2):\n",
    "            continue\n",
    " \n",
    "        region.append(box)\n",
    " \n",
    "    return region\n",
    "def detect(img):\n",
    "    image_list=[]\n",
    "    # 1.  转化成灰度图\n",
    "    img_copy=img.copy()\n",
    "    gray = cv2.cvtColor(img, cv2.COLOR_BGR2GRAY)\n",
    "     \n",
    "    # 2. 形态学变换的预处理，得到可以查找矩形的图片\n",
    "    dilation = preprocess(gray)\n",
    " \n",
    "    # 3. 查找和筛选文字区域\n",
    "    region = findTextRegion(dilation)\n",
    "    #region=non_max_suppression_merge(region)\n",
    " \n",
    "    # 4. 用绿线画出这些找到的轮廓\n",
    "    for box in region:\n",
    "        cv2.drawContours(img_copy, [box], 0, (0, 255, 0), 2)\n",
    "        #print(box)\n",
    "        image_list.append(four_point_transform(img,box))\n",
    "    return img_copy, image_list[::-1]\n",
    "#    cv2.namedWindow(\"img\", cv2.WINDOW_NORMAL)\n",
    "#    cv2.imshow(\"img\", img)\n",
    " \n",
    "    # 带轮廓的图片\n",
    "#    cv2.imwrite(\"contours.png\", img)\n",
    " \n",
    "#    cv2.waitKey(0)\n",
    "#    cv2.destroyAllWindows()\n",
    "\n"
   ]
  },
  {
   "cell_type": "markdown",
   "metadata": {},
   "source": [
    "# Parameters"
   ]
  },
  {
   "cell_type": "code",
   "execution_count": 5,
   "metadata": {},
   "outputs": [],
   "source": [
    "parser = argparse.ArgumentParser()\n",
    "# Recognition Model\n",
    "# basic operations\n",
    "parser.add_argument(\"-name\", default='dense_128_32_noartifact_beamsearch_5_datasets', type=str, help=\"name of the log\")\n",
    "parser.add_argument(\"-gpu\", default='-1', type=str, help=\"gpu numbers\")\n",
    "#parser.add_argument(\"-train\", help=\"train the NN\", action=\"store_true\")\n",
    "#parser.add_argument(\"-validate\", help=\"validate the NN\", action=\"store_true\")\n",
    "parser.add_argument(\"-transfer\", action=\"store_true\")\n",
    "#actually not effective:\n",
    "parser.add_argument(\"-batchesTrained\", default=0, type=int, help='number of batches already trained (for lr schedule)') \n",
    "# beam search\n",
    "parser.add_argument(\"-beamsearch\", help=\"use beam search instead of best path decoding\",default=True, action=\"store_true\")\n",
    "parser.add_argument(\"-wordbeamsearch\", help=\"use word beam search instead of best path decoding\", action=\"store_true\")\n",
    "# training hyperparam\n",
    "parser.add_argument(\"-batchsize\", default=50, type=int, help='batch size') # actually not effective in infrerence\n",
    "parser.add_argument(\"-lrInit\", default=1e-2, type=float, help='initial learning rate') # actually not effective\n",
    "parser.add_argument(\"-optimizer\", default='rmsprop', help=\"adam, rmsprop, momentum\") # actually not effective\n",
    "parser.add_argument(\"-wdec\", default=1e-4, type=float, help='weight decay') # acctually not effective\n",
    "#parser.add_argument(\"-lrDrop1\", default=10, type=int, help='step to drop lr by 10 first time')\n",
    "#parser.add_argument(\"-lrDrop2\", default=1000, type=int, help='step to drop lr by 10 sexond time')\n",
    "#parser.add_argument(\"-epochEnd\", default=40, type=int, help='end after this many epochs')\n",
    "# trainset hyperparam\n",
    "#parser.add_argument(\"-noncustom\", help=\"noncustom (original) augmentation technique\", action=\"store_true\")\n",
    "#parser.add_argument(\"-noartifact\", help=\"dont insert artifcats\", action=\"store_true\")\n",
    "#parser.add_argument(\"-iam\", help='use iam dataset', action='store_true')\n",
    "# densenet hyperparam\n",
    "parser.add_argument(\"-nondensenet\", help=\"use noncustom (original) vanilla cnn\", action=\"store_true\")\n",
    "parser.add_argument(\"-growth_rate\", default=12, type=int, help='growth rate (k)')\n",
    "parser.add_argument(\"-layers_per_block\", default=18, type=int, help='number of layers per block')\n",
    "parser.add_argument(\"-total_blocks\", default=5, type=int, help='nuber of densenet blocks')\n",
    "parser.add_argument(\"-keep_prob\", default=1, type=float, help='keep probability in dropout')\n",
    "parser.add_argument(\"-reduction\", default=0.4, type=float, help='reduction factor in 1x1 conv in transition layers')\n",
    "parser.add_argument(\"-bc_mode\", default=True, type=bool, help=\"bottleneck and compresssion mode\")\n",
    "# rnn,  hyperparams\n",
    "parser.add_argument(\"-rnndim\", default=256, type=int, help='rnn dimenstionality') #256\n",
    "parser.add_argument(\"-rnnsteps\", default=32, type=int, help='number of desired time steps (image slices) to feed rnn')\n",
    "# img size\n",
    "parser.add_argument(\"-imgsize\", default=[128,32], type=int, nargs='+') #qyk default 128,32\n",
    "# testset crop\n",
    "#parser.add_argument(\"-crop_r1\", default=3, type=int)\n",
    "#parser.add_argument(\"-crop_r2\", default=28, type=int)\n",
    "#parser.add_argument(\"-crop_c1\", default=10, type=int)\n",
    "#parser.add_argument(\"-crop_c2\", default=115, type=int)\n",
    "# filepaths\n",
    "#parser.add_argument(\"-dataroot\", default='/root/datasets', type=str)\n",
    "parser.add_argument(\"-ckptroot\", default='/root/ckpt', type=str)\n",
    "#parser.add_argument(\"-urlTransferFrom\", default=None, type=str)\n",
    "\n",
    "args = parser.parse_known_args()[0]\n",
    "home = os.environ['HOME']\n",
    "name = args.name\n",
    "ckptroot = join(home, 'ckpt')\n",
    "args.ckptpath = join(ckptroot, name)\n",
    "os.environ['CUDA_VISIBLE_DEVICES'] = args.gpu"
   ]
  },
  {
   "cell_type": "code",
   "execution_count": 6,
   "metadata": {},
   "outputs": [],
   "source": [
    "#orig_dir='/root/datasets/img_print_100000_en/'\n",
    "#target_dir='/root/datasets/artifact_images_no_intersect/artifact_images_no_intersect/images_bin/'\n",
    "test_dir='/root/WordSegmentationRecognitionPipeline/src/wordsegmentation/'"
   ]
  },
  {
   "cell_type": "markdown",
   "metadata": {},
   "source": [
    "# Initiate Models\n"
   ]
  },
  {
   "cell_type": "code",
   "execution_count": 7,
   "metadata": {},
   "outputs": [
    {
     "name": "stdout",
     "output_type": "stream",
     "text": [
      "Build Densenet4htr model with 5 blocks, 9 bottleneck layers and 9 composite layers each.\n",
      "Depth: 96\n",
      "Reduction at transition layers: 0.4\n",
      "WARNING:tensorflow:From /usr/local/lib/python3.5/dist-packages/tensorflow/python/framework/op_def_library.py:263: colocate_with (from tensorflow.python.framework.ops) is deprecated and will be removed in a future version.\n",
      "Instructions for updating:\n",
      "Colocations handled automatically by placer.\n",
      "densenet feature extractor graph built in (sec): 7.502086400985718\n",
      "Total training params: 0.5M\n",
      "shape of cnn output: [None, 32, 1, 178]\n",
      "WARNING:tensorflow:From /root/WordSegmentationRecognitionPipeline/src/recognition/Model.py:102: LSTMCell.__init__ (from tensorflow.python.ops.rnn_cell_impl) is deprecated and will be removed in a future version.\n",
      "Instructions for updating:\n",
      "This class is equivalent as tf.keras.layers.LSTMCell, and will be replaced by that in Tensorflow 2.0.\n",
      "WARNING:tensorflow:From /root/WordSegmentationRecognitionPipeline/src/recognition/Model.py:105: MultiRNNCell.__init__ (from tensorflow.python.ops.rnn_cell_impl) is deprecated and will be removed in a future version.\n",
      "Instructions for updating:\n",
      "This class is equivalent as tf.keras.layers.StackedRNNCells, and will be replaced by that in Tensorflow 2.0.\n",
      "WARNING:tensorflow:From /root/WordSegmentationRecognitionPipeline/src/recognition/Model.py:110: bidirectional_dynamic_rnn (from tensorflow.python.ops.rnn) is deprecated and will be removed in a future version.\n",
      "Instructions for updating:\n",
      "Please use `keras.layers.Bidirectional(keras.layers.RNN(cell))`, which is equivalent to this API\n",
      "WARNING:tensorflow:From /usr/local/lib/python3.5/dist-packages/tensorflow/python/ops/rnn.py:443: dynamic_rnn (from tensorflow.python.ops.rnn) is deprecated and will be removed in a future version.\n",
      "Instructions for updating:\n",
      "Please use `keras.layers.RNN(cell)`, which is equivalent to this API\n"
     ]
    },
    {
     "name": "stderr",
     "output_type": "stream",
     "text": [
      "COMET ERROR: Failed to extract parameters from Estimator.init()\n"
     ]
    },
    {
     "name": "stdout",
     "output_type": "stream",
     "text": [
      "Python: 3.5.2 (default, Nov 12 2018, 13:43:14) \n",
      "[GCC 5.4.0 20160609]\n",
      "Tensorflow: 1.12.0-rc0\n",
      "WARNING:tensorflow:From /usr/local/lib/python3.5/dist-packages/tensorflow/python/training/saver.py:1557: checkpoint_exists (from tensorflow.python.training.checkpoint_management) is deprecated and will be removed in a future version.\n",
      "Instructions for updating:\n",
      "Use standard file APIs to check for files with this prefix.\n",
      "INFO:tensorflow:Restoring parameters from /root/ckpt/dense_128_32_noartifact_beamsearch_5_datasets/model-35\n",
      "Init with stored values from /root/ckpt/dense_128_32_noartifact_beamsearch_5_datasets/model-35\n"
     ]
    }
   ],
   "source": [
    "decoderType = DecoderType.BestPath\n",
    "if args.beamsearch:\n",
    "    decoderType = DecoderType.BeamSearch\n",
    "elif args.wordbeamsearch:\n",
    "    decoderType = DecoderType.WordBeamSearch\n",
    "\n",
    "model_recg = Model(args, open(join(args.ckptpath, 'charList.txt')).read(), decoderType, mustRestore=True)"
   ]
  },
  {
   "cell_type": "markdown",
   "metadata": {},
   "source": [
    "# Segmentation + Recognition Demo\n",
    "### ---TroubleShooting"
   ]
  },
  {
   "cell_type": "code",
   "execution_count": 8,
   "metadata": {},
   "outputs": [],
   "source": [
    "(crops, geos) = np.load('./wordsegmentation/name_crops.npy')\n",
    "#for crop in crops:\n",
    "#     cv2.imgshow(“preview”, crop)\n",
    "\n",
    "#crops = np.load(\"./wordsegmentation/save.npy\", allow_pickle=True)\n",
    "#path='/root/WordSegmentationRecognitionPipeline/src/Inputs/'+'twolines.jpg'\n",
    "#path='/root/WordSegmentationRecognitionPipeline/src/Inputs/'+'Hello World Good Morning.jpg'\n",
    "#path='/root/WordSegmentationRecognitionPipeline/src/Inputs/'+'Hello World Small.jpg'\n",
    "#path='/root/WordSegmentationRecognitionPipeline/src/Inputs/'+'sentences.jpg'\n",
    "#path='/root/WordSegmentationRecognitionPipeline/src/Inputs/'+'handwritten long.jpg'"
   ]
  },
  {
   "cell_type": "code",
   "execution_count": 32,
   "metadata": {},
   "outputs": [
    {
     "data": {
      "text/plain": [
       "(56, 316, 3)"
      ]
     },
     "execution_count": 32,
     "metadata": {},
     "output_type": "execute_result"
    }
   ],
   "source": [
    "crops[1].shape"
   ]
  },
  {
   "cell_type": "code",
   "execution_count": 14,
   "metadata": {},
   "outputs": [],
   "source": [
    "#img=cv2.imread(path)\n",
    "#img_dtct,crops=detect(img)"
   ]
  },
  {
   "cell_type": "code",
   "execution_count": 15,
   "metadata": {},
   "outputs": [],
   "source": [
    "# assume boundingbox (x,y,w,h) for each crop in crops !!!!!\n",
    "# generate dummy boundingbox crops data\n",
    "bounding_box=[(0,0,0,0) for i in range(len(crops))] "
   ]
  },
  {
   "cell_type": "code",
   "execution_count": 16,
   "metadata": {},
   "outputs": [],
   "source": [
    "def wordSegmentation(args,img, kernelSize=25, sigma=11, theta=7, minArea=0): #yike: added args\n",
    "\t\"\"\"Scale space technique for word segmentation proposed by R. Manmatha: http://ciir.cs.umass.edu/pubfiles/mm-27.pdf\n",
    "\t\n",
    "\tArgs:\n",
    "\t\timg: grayscale uint8 image of the text-line to be segmented.\n",
    "\t\tkernelSize: size of filter kernel, must be an odd integer.\n",
    "\t\tsigma: standard deviation of Gaussian function used for filter kernel.\n",
    "\t\ttheta: approximated width/height ratio of words, filter function is distorted by this factor.\n",
    "\t\tminArea: ignore word candidates smaller than specified area.\n",
    "\t\t\n",
    "\tReturns:\n",
    "\t\tList of tuples. Each tuple contains the bounding box and the image of the segmented word.\n",
    "\t\"\"\"\n",
    "\n",
    "\t# apply filter kernel\n",
    "\tkernel = createKernel(kernelSize, sigma, theta)\n",
    "\timgFiltered = cv2.filter2D(img, -1, kernel, borderType=cv2.BORDER_REPLICATE).astype(np.uint8)\n",
    "\t(_, imgThres) = cv2.threshold(imgFiltered, 0, 255, cv2.THRESH_BINARY+cv2.THRESH_OTSU)\n",
    "\timgThres = 255 - imgThres\n",
    "\n",
    "\t# find connected components. OpenCV: return type differs between OpenCV2 and 3\n",
    "\tif cv2.__version__.startswith('3.'):\n",
    "\t\t(_, components, _) = cv2.findContours(imgThres, cv2.RETR_EXTERNAL, cv2.CHAIN_APPROX_SIMPLE)\n",
    "\telse:\n",
    "\t\t(components, _) = cv2.findContours(imgThres, cv2.RETR_LIST, cv2.CHAIN_APPROX_SIMPLE)\n",
    "\n",
    "\t# append components to result\n",
    "\tres = []\n",
    "\thh,ww=img.shape\n",
    "\tfor c in components:\n",
    "\t\t# skip small word candidates\n",
    "\t\tif cv2.contourArea(c) < minArea:\n",
    "\t\t\tcontinue\n",
    "\t\t# append bounding box and image of word to result list\n",
    "\t\tcurrBox = cv2.boundingRect(c) # returns (x, y, w, h)\n",
    "\t\t(x, y, w, h) = currBox\n",
    "\t\tcurrImg = cv2.transpose(cv2.resize(img[int(max(y-0.05*h,0)):int(min(y+1.15*h,hh)), max(x,0):min(x+w,ww)], (args.imgsize[0],args.imgsize[1]), interpolation=cv2.INTER_CUBIC))#img[y:y+h, x:x+w] # revised a little, revise to argsize and transpose, yike \n",
    "\t\tres.append((currBox, currImg))\n",
    "\n",
    "\t# return list of words, sorted by x-coordinate\n",
    "\treturn sorted(res, key=lambda entry:entry[0][0])\n"
   ]
  },
  {
   "cell_type": "code",
   "execution_count": null,
   "metadata": {},
   "outputs": [],
   "source": []
  },
  {
   "cell_type": "code",
   "execution_count": 9,
   "metadata": {},
   "outputs": [
    {
     "name": "stdout",
     "output_type": "stream",
     "text": [
      "3.18\n",
      "5.642857142857143\n",
      "6.478260869565218\n",
      "6.164179104477612\n",
      "5.725\n",
      "8.618556701030927\n",
      "8.429906542056075\n",
      "10.0\n",
      "7.147058823529412\n"
     ]
    }
   ],
   "source": [
    "seg_size=[]\n",
    "image_lst=[]\n",
    "debug_box=[]\n",
    "for idx, crop in enumerate(crops):\n",
    "    #cv2.imwrite(test_dir+'orig_'+str(idx)+'.jpg',crop)\n",
    "    sp=crop.shape\n",
    "    print(sp[1]/sp[0])\n",
    "    if sp[1]/sp[0]<3: ########## threshold not sure\n",
    "        seg_size.append(1)\n",
    "        crop_=cv2.transpose(cv2.resize(crop, (args.imgsize[0],args.imgsize[1]), interpolation=cv2.INTER_CUBIC))\n",
    "        crop_=cv2.cvtColor(crop_, cv2.COLOR_BGR2GRAY)\n",
    "        thresh1,crop_ = cv2.threshold(crop_,135,255,cv2.THRESH_BINARY | cv2.THRESH_OTSU) # binarize to gain contrast, maybe there is better method\n",
    "        image_lst.append(crop_)\n",
    "    else:\n",
    "        crop_=cv2.cvtColor(crop, cv2.COLOR_BGR2GRAY) \n",
    "        \n",
    "        thresh1,crop_ = cv2.threshold(crop_,135,255,cv2.THRESH_BINARY | cv2.THRESH_OTSU) # binarize to gain contrast, maybe there is better method\n",
    "        temp=crop_\n",
    "        #crop_=cv2.cvtColor(crop_,cv2.COLOR_GRAY2BGR)\n",
    "        img = prepareImg(crop_, 50)\n",
    "        res = wordSegmentation(args,img, kernelSize=25, sigma=11, theta=7, minArea=300) #kernelSize=25, sigma=11, theta=7, minArea=300)\n",
    "        boxes,images=zip(*res) # the boxes info could be used to generate word level bounding box coordinates\n",
    "        images_=images\n",
    "        #print(boxes)\n",
    "        boxes,pick=non_max_suppression_wh(boxes)\n",
    "        images_=list(np.array(images)[pick])\n",
    "        seg_size.append(len(boxes))\n",
    "        image_lst+=images_\n",
    "        debug_box+=list(boxes)"
   ]
  },
  {
   "cell_type": "code",
   "execution_count": 180,
   "metadata": {},
   "outputs": [
    {
     "data": {
      "text/plain": [
       "array([  0,   0,   0,   0,   0,   0,   0,   0,   9, 164, 168, 173, 173,\n",
       "       173, 173, 168, 159,  68,  41,  36,  36,  36,  36,  36,  36,  36,\n",
       "        36,  36,  36,  46, 164, 168, 173, 173, 173, 173, 173, 164,  32,\n",
       "         0,   0,   0,   0,   0,  59,  91, 109, 123, 132, 141, 150, 155,\n",
       "       150, 109,  96,  82,  77,  73,  73,  68,  64,  64,  64,  68,  73,\n",
       "        73,  77,  73,  91, 109, 159, 155, 150, 146, 137, 128, 118, 100,\n",
       "        64,   0,   0,   0,   0,   0, 150, 164, 168, 173, 173, 173, 173,\n",
       "       168, 105,  73,  82,  82, 100, 105, 114, 114, 114, 114, 105,  91,\n",
       "        77,  73,  73,  77,  87,  91,  96, 100, 100, 100,  96,  91,  82,\n",
       "        77,  73,  87, 168, 168, 173, 173, 173, 168, 164, 150,   0,   0,\n",
       "         0,   0,   0,   0, 109, 159, 168, 173, 173, 173, 173, 173, 173,\n",
       "       128, 105,  96,  96,  96,  96,  96,  96,  96,  96,  91,  87,  59,\n",
       "        50,  18,  18,  23,  27,  27,  32,  36,  36,  36,  36,  36,  41,\n",
       "       168, 173, 173, 173, 173, 178, 173, 173, 155,  41,  36,  36,  36,\n",
       "        36,  36,  32,  32,  27,  18,   0,   0,  64,  87, 105, 123, 132,\n",
       "       137, 146, 155, 159, 118,  91,  87,  82,  73,  64,  73,  68,  64,\n",
       "        68,  68,  64,  68,  77,  82,  91, 100, 159, 155, 150, 146, 137,\n",
       "       128, 114, 105,  73,  27,   0,   0,  14,  36,  64,  82, 100, 123,\n",
       "       132, 146, 155, 146, 128, 118,  91,  77,  73,  77,  91, 105, 118,\n",
       "       132, 141, 123, 109,  96,  87,  87, 100, 118, 137, 155, 150, 132,\n",
       "       118, 105,  77,  68,  73,  82, 100, 114, 132, 137, 132, 128, 118,\n",
       "       100,  82,  68,  46,  27,   0,   0,   0,   0, 100, 164, 168, 173,\n",
       "       173, 173, 173, 168, 109,  73,  73,  73,  82,  82,  91,  87,  87,\n",
       "        87,  91,  91,  87,  87,  82,  91, 168, 173, 173, 173, 173, 168,\n",
       "       168, 155,   0,   0], dtype=uint8)"
      ]
     },
     "execution_count": 180,
     "metadata": {},
     "output_type": "execute_result"
    }
   ],
   "source": [
    "hist"
   ]
  },
  {
   "cell_type": "code",
   "execution_count": 183,
   "metadata": {},
   "outputs": [
    {
     "data": {
      "text/plain": [
       "316"
      ]
     },
     "execution_count": 183,
     "metadata": {},
     "output_type": "execute_result"
    }
   ],
   "source": [
    "n"
   ]
  },
  {
   "cell_type": "code",
   "execution_count": 259,
   "metadata": {},
   "outputs": [
    {
     "data": {
      "image/png": "[encoded data removed]",
      "text/plain": [
       "<PIL.Image.Image image mode=RGB size=836x97 at 0x7EFFA87224A8>"
      ]
     },
     "execution_count": 259,
     "metadata": {},
     "output_type": "execute_result"
    }
   ],
   "source": [
    "img=crops[5]\n",
    "img_cp=img.copy()\n",
    "thred=0.05\n",
    "\n",
    "Image.fromarray(histosegmentation(img,thred,gap_thred))"
   ]
  },
  {
   "cell_type": "code",
   "execution_count": 256,
   "metadata": {},
   "outputs": [],
   "source": [
    "def histosegmentation(img,thred,gap_thred):\n",
    "#    img=crops[5]\n",
    "#    img_cp=img.copy()\n",
    "#    thred=0.05\n",
    "    gap_thred=30\n",
    "    gray = cv2.cvtColor(img, cv2.COLOR_BGR2GRAY)\n",
    "    th, threshed = cv2.threshold(gray, 130, 255, cv2.THRESH_BINARY_INV|cv2.THRESH_OTSU)\n",
    "    #pts = cv2.findNonZero(threshed)\n",
    "    hist = cv2.reduce(threshed,0, cv2.REDUCE_AVG).reshape(-1)\n",
    "    hist_=hist/max(hist)\n",
    "    #let's looking for drops\n",
    "    high_flag=False\n",
    "    pre_high_flag=False\n",
    "    word_ranges=[]\n",
    "    n=len(hist)\n",
    "    level_indicators=[ 1 if (hist_[idx+1]>thred and hist_[idx]<thred) else -1 if (hist_[idx+1]<thred and hist_[idx]>thred) else 0 if (hist_[idx]<thred) else 2 for idx in range(n-1)]\n",
    "    # -1 going down; 1 going up; 0 low level; 2 high level\n",
    "    idx=0\n",
    "    word_range=[]\n",
    "    # capture drops \n",
    "    start=0\n",
    "    capture=False\n",
    "    while(idx<n):\n",
    "        if (level_indicators[idx]==-1 and sum(level_indicators[idx+1:idx+gap_thred])==0) or (idx==n-1 and level_indicators[idx]==2):\n",
    "            word_range.append((start,min(idx+3,n)))\n",
    "            capture=True\n",
    "            idx+=gap_thred\n",
    "            cv2.line(img_cp, (idx+3, 0), (idx+3, img.shape[0]), (0,0,0))\n",
    "        elif level_indicators[idx]==1 and capture:\n",
    "            start=max(idx-5,0)\n",
    "            capture=False\n",
    "            idx+=1\n",
    "            cv2.line(img_cp, (idx-5, 0), (idx-5, img.shape[0]), (0,255,0))\n",
    "        else:\n",
    "            idx+=1\n",
    "    return img_cp\n",
    "    "
   ]
  },
  {
   "cell_type": "code",
   "execution_count": 240,
   "metadata": {},
   "outputs": [
    {
     "data": {
      "text/plain": [
       "[0,\n",
       " 0,\n",
       " 0,\n",
       " 0,\n",
       " 0,\n",
       " 0,\n",
       " 0,\n",
       " 1,\n",
       " 2,\n",
       " 2,\n",
       " 2,\n",
       " 2,\n",
       " 2,\n",
       " 2,\n",
       " 2,\n",
       " 2,\n",
       " 2,\n",
       " 2,\n",
       " 2,\n",
       " 2,\n",
       " 2,\n",
       " 2,\n",
       " 2,\n",
       " 2,\n",
       " 2,\n",
       " 2,\n",
       " 2,\n",
       " 2,\n",
       " 2,\n",
       " 2,\n",
       " 2,\n",
       " 2,\n",
       " 2,\n",
       " 2,\n",
       " 2,\n",
       " 2,\n",
       " 2,\n",
       " 2,\n",
       " -1,\n",
       " 0,\n",
       " 0,\n",
       " 0,\n",
       " 0,\n",
       " 1,\n",
       " 2,\n",
       " 2,\n",
       " 2,\n",
       " 2,\n",
       " 2,\n",
       " 2,\n",
       " 2,\n",
       " 2,\n",
       " 2,\n",
       " 2,\n",
       " 2,\n",
       " 2,\n",
       " 2,\n",
       " 2,\n",
       " 2,\n",
       " 2,\n",
       " 2,\n",
       " 2,\n",
       " 2,\n",
       " 2,\n",
       " 2,\n",
       " 2,\n",
       " 2,\n",
       " 2,\n",
       " 2,\n",
       " 2,\n",
       " 2,\n",
       " 2,\n",
       " 2,\n",
       " 2,\n",
       " 2,\n",
       " 2,\n",
       " 2,\n",
       " 2,\n",
       " -1,\n",
       " 0,\n",
       " 0,\n",
       " 0,\n",
       " 0,\n",
       " 1,\n",
       " 2,\n",
       " 2,\n",
       " 2,\n",
       " 2,\n",
       " 2,\n",
       " 2,\n",
       " 2,\n",
       " 2,\n",
       " 2,\n",
       " 2,\n",
       " 2,\n",
       " 2,\n",
       " 2,\n",
       " 2,\n",
       " 2,\n",
       " 2,\n",
       " 2,\n",
       " 2,\n",
       " 2,\n",
       " 2,\n",
       " 2,\n",
       " 2,\n",
       " 2,\n",
       " 2,\n",
       " 2,\n",
       " 2,\n",
       " 2,\n",
       " 2,\n",
       " 2,\n",
       " 2,\n",
       " 2,\n",
       " 2,\n",
       " 2,\n",
       " 2,\n",
       " 2,\n",
       " 2,\n",
       " 2,\n",
       " 2,\n",
       " 2,\n",
       " 2,\n",
       " 2,\n",
       " 2,\n",
       " 2,\n",
       " -1,\n",
       " 0,\n",
       " 0,\n",
       " 0,\n",
       " 0,\n",
       " 0,\n",
       " 1,\n",
       " 2,\n",
       " 2,\n",
       " 2,\n",
       " 2,\n",
       " 2,\n",
       " 2,\n",
       " 2,\n",
       " 2,\n",
       " 2,\n",
       " 2,\n",
       " 2,\n",
       " 2,\n",
       " 2,\n",
       " 2,\n",
       " 2,\n",
       " 2,\n",
       " 2,\n",
       " 2,\n",
       " 2,\n",
       " 2,\n",
       " 2,\n",
       " 2,\n",
       " 2,\n",
       " 2,\n",
       " 2,\n",
       " 2,\n",
       " 2,\n",
       " 2,\n",
       " 2,\n",
       " 2,\n",
       " 2,\n",
       " 2,\n",
       " 2,\n",
       " 2,\n",
       " 2,\n",
       " 2,\n",
       " 2,\n",
       " 2,\n",
       " 2,\n",
       " 2,\n",
       " 2,\n",
       " 2,\n",
       " 2,\n",
       " 2,\n",
       " 2,\n",
       " 2,\n",
       " 2,\n",
       " 2,\n",
       " 2,\n",
       " 2,\n",
       " 2,\n",
       " 2,\n",
       " 2,\n",
       " -1,\n",
       " 0,\n",
       " 1,\n",
       " 2,\n",
       " 2,\n",
       " 2,\n",
       " 2,\n",
       " 2,\n",
       " 2,\n",
       " 2,\n",
       " 2,\n",
       " 2,\n",
       " 2,\n",
       " 2,\n",
       " 2,\n",
       " 2,\n",
       " 2,\n",
       " 2,\n",
       " 2,\n",
       " 2,\n",
       " 2,\n",
       " 2,\n",
       " 2,\n",
       " 2,\n",
       " 2,\n",
       " 2,\n",
       " 2,\n",
       " 2,\n",
       " 2,\n",
       " 2,\n",
       " 2,\n",
       " 2,\n",
       " 2,\n",
       " 2,\n",
       " 2,\n",
       " 2,\n",
       " 2,\n",
       " 2,\n",
       " -1,\n",
       " 0,\n",
       " 1,\n",
       " 2,\n",
       " 2,\n",
       " 2,\n",
       " 2,\n",
       " 2,\n",
       " 2,\n",
       " 2,\n",
       " 2,\n",
       " 2,\n",
       " 2,\n",
       " 2,\n",
       " 2,\n",
       " 2,\n",
       " 2,\n",
       " 2,\n",
       " 2,\n",
       " 2,\n",
       " 2,\n",
       " 2,\n",
       " 2,\n",
       " 2,\n",
       " 2,\n",
       " 2,\n",
       " 2,\n",
       " 2,\n",
       " 2,\n",
       " 2,\n",
       " 2,\n",
       " 2,\n",
       " 2,\n",
       " 2,\n",
       " 2,\n",
       " 2,\n",
       " 2,\n",
       " 2,\n",
       " 2,\n",
       " 2,\n",
       " 2,\n",
       " 2,\n",
       " 2,\n",
       " 2,\n",
       " 2,\n",
       " 2,\n",
       " 2,\n",
       " 2,\n",
       " 2,\n",
       " 2,\n",
       " 2,\n",
       " 2,\n",
       " -1,\n",
       " 0,\n",
       " 0,\n",
       " 0,\n",
       " 1,\n",
       " 2,\n",
       " 2,\n",
       " 2,\n",
       " 2,\n",
       " 2,\n",
       " 2,\n",
       " 2,\n",
       " 2,\n",
       " 2,\n",
       " 2,\n",
       " 2,\n",
       " 2,\n",
       " 2,\n",
       " 2,\n",
       " 2,\n",
       " 2,\n",
       " 2,\n",
       " 2,\n",
       " 2,\n",
       " 2,\n",
       " 2,\n",
       " 2,\n",
       " 2,\n",
       " 2,\n",
       " 2,\n",
       " 2,\n",
       " 2,\n",
       " 2,\n",
       " 2,\n",
       " 2,\n",
       " 2,\n",
       " -1,\n",
       " 0]"
      ]
     },
     "execution_count": 240,
     "metadata": {},
     "output_type": "execute_result"
    }
   ],
   "source": [
    "level_indicators"
   ]
  },
  {
   "cell_type": "code",
   "execution_count": 186,
   "metadata": {},
   "outputs": [
    {
     "data": {
      "image/png": "[encoded data removed]",
      "text/plain": [
       "<PIL.Image.Image image mode=L size=316x56 at 0x7EFFA8722D68>"
      ]
     },
     "execution_count": 186,
     "metadata": {},
     "output_type": "execute_result"
    }
   ],
   "source": [
    "Image.fromarray(threshed)"
   ]
  },
  {
   "cell_type": "code",
   "execution_count": 177,
   "metadata": {},
   "outputs": [
    {
     "data": {
      "image/png": "[encoded data removed]",
      "text/plain": [
       "<PIL.Image.Image image mode=L size=316x56 at 0x7EFFA87942E8>"
      ]
     },
     "execution_count": 177,
     "metadata": {},
     "output_type": "execute_result"
    }
   ],
   "source": [
    "Image.fromarray(threshed)"
   ]
  },
  {
   "cell_type": "code",
   "execution_count": 178,
   "metadata": {},
   "outputs": [
    {
     "data": {
      "image/png": "[encoded data removed]",
      "text/plain": [
       "<matplotlib.figure.Figure at 0x7effa878f898>"
      ]
     },
     "metadata": {
      "needs_background": "light"
     },
     "output_type": "display_data"
    }
   ],
   "source": [
    "import matplotlib.pyplot as plt\n",
    "#plt.plot(hist)\n",
    "plt.plot(hist_)\n",
    "plt.show()"
   ]
  },
  {
   "cell_type": "code",
   "execution_count": 170,
   "metadata": {},
   "outputs": [
    {
     "data": {
      "text/plain": [
       "array([0.     , 0.     , 0.     , 0.     , 0.     , 0.     , 0.     ,\n",
       "       0.     , 0.     , 0.     , 0.     , 0.     , 0.     , 0.     ,\n",
       "       0.     , 0.     , 0.04375, 0.11875, 0.15   , 0.18125, 0.20625,\n",
       "       0.25625, 0.5375 , 0.7625 , 1.     , 1.     , 0.5375 , 0.41875,\n",
       "       0.3125 , 0.18125, 0.11875, 0.11875, 0.11875, 0.11875, 0.11875,\n",
       "       0.11875, 0.11875, 0.13125, 0.15   , 0.13125, 0.13125, 0.13125,\n",
       "       0.13125, 0.13125, 0.13125, 0.15   , 0.15   , 0.20625, 0.25625,\n",
       "       0.25625, 0.2375 , 0.225  , 0.18125, 0.1625 , 0.13125, 0.0875 ,\n",
       "       0.075  , 0.075  , 0.075  , 0.0625 , 0.0625 , 0.0625 , 0.0625 ,\n",
       "       0.075  , 0.075  , 0.0625 , 0.0625 , 0.075  , 0.0625 , 0.0625 ,\n",
       "       0.0625 , 0.075  , 0.075  , 0.0625 , 0.0625 , 0.075  , 0.075  ,\n",
       "       0.1625 , 0.19375, 0.19375, 0.20625, 0.20625, 0.20625, 0.20625,\n",
       "       0.225  , 0.225  , 0.2375 , 0.26875, 0.25625, 0.225  , 0.1625 ,\n",
       "       0.     , 0.     , 0.     , 0.     , 0.     , 0.03125, 0.0625 ,\n",
       "       0.0875 , 0.10625, 0.10625, 0.10625, 0.11875, 0.2375 , 0.375  ,\n",
       "       0.65625, 0.74375, 0.74375, 0.7625 , 0.7875 , 0.81875, 0.74375,\n",
       "       0.3875 , 0.325  , 0.3    , 0.26875, 0.26875, 0.28125, 0.25625,\n",
       "       0.26875, 0.2375 , 0.225  , 0.2375 , 0.225  , 0.20625, 0.25625,\n",
       "       0.25625, 0.25625, 0.26875, 0.25625, 0.2375 , 0.26875, 0.26875,\n",
       "       0.26875, 0.28125, 0.325  , 0.34375, 0.4    , 0.375  , 0.325  ,\n",
       "       0.28125, 0.18125, 0.075  , 0.075  , 0.075  , 0.075  , 0.075  ,\n",
       "       0.075  , 0.075  , 0.075  , 0.075  , 0.075  , 0.075  , 0.075  ,\n",
       "       0.0875 , 0.075  , 0.0875 , 0.11875, 0.18125, 0.2375 , 0.3125 ,\n",
       "       0.35625, 0.3125 , 0.34375, 0.35625, 0.475  , 0.41875, 0.375  ,\n",
       "       0.375  , 0.4    , 0.43125, 0.41875, 0.34375, 0.26875, 0.2375 ,\n",
       "       0.2375 , 0.225  , 0.18125, 0.18125, 0.1625 , 0.1625 , 0.18125,\n",
       "       0.1625 , 0.1625 , 0.1625 , 0.18125, 0.18125, 0.18125, 0.19375,\n",
       "       0.20625, 0.20625, 0.20625, 0.2375 , 0.20625, 0.19375, 0.2375 ,\n",
       "       0.51875, 0.49375, 0.4625 , 0.44375, 0.41875, 0.225  , 0.075  ,\n",
       "       0.075  , 0.0875 , 0.0875 , 0.075  , 0.075  , 0.075  , 0.075  ,\n",
       "       0.075  , 0.075  , 0.075  , 0.075  , 0.075  , 0.225  , 0.3    ,\n",
       "       0.325  , 0.34375, 0.375  , 0.50625, 0.5375 , 0.5375 , 0.50625,\n",
       "       0.475  , 0.4625 , 0.375  , 0.20625, 0.11875, 0.10625, 0.10625,\n",
       "       0.10625, 0.10625, 0.0875 , 0.0875 , 0.0875 , 0.10625, 0.10625,\n",
       "       0.10625, 0.10625, 0.11875, 0.10625, 0.10625, 0.0875 , 0.10625,\n",
       "       0.10625, 0.10625, 0.10625, 0.10625, 0.10625, 0.10625, 0.11875,\n",
       "       0.10625, 0.10625, 0.0875 , 0.0875 , 0.075  , 0.0875 , 0.075  ,\n",
       "       0.0875 , 0.15   , 0.20625, 0.225  , 0.26875, 0.3    , 0.3125 ,\n",
       "       0.325  , 0.325  , 0.3125 , 0.325  , 0.475  , 0.43125, 0.3875 ,\n",
       "       0.325  , 0.26875, 0.2375 , 0.20625, 0.15   , 0.0875 , 0.04375,\n",
       "       0.     , 0.     , 0.     , 0.     , 0.0125 , 0.075  , 0.10625,\n",
       "       0.10625, 0.11875, 0.0875 , 0.0875 , 0.11875, 0.13125, 0.13125,\n",
       "       0.15   , 0.15   , 0.15   , 0.15   , 0.13125, 0.1625 , 0.15   ,\n",
       "       0.15   , 0.15   , 0.19375, 0.3125 , 0.35625, 0.3875 , 0.4    ,\n",
       "       0.3875 , 0.3    , 0.28125, 0.3125 , 0.3125 , 0.3125 , 0.325  ,\n",
       "       0.3125 , 0.34375, 0.34375, 0.375  , 0.49375, 0.44375, 0.4    ,\n",
       "       0.44375, 0.44375, 0.325  , 0.325  , 0.225  , 0.18125, 0.1625 ,\n",
       "       0.325  , 0.43125, 0.50625, 0.55   , 0.56875, 0.44375, 0.5375 ,\n",
       "       0.51875, 0.4625 , 0.43125, 0.3875 , 0.20625, 0.13125, 0.11875,\n",
       "       0.13125, 0.15   , 0.15   , 0.15   , 0.1625 , 0.15   , 0.1625 ,\n",
       "       0.15   , 0.18125, 0.1625 , 0.18125, 0.1625 , 0.1625 , 0.18125,\n",
       "       0.1625 , 0.1625 , 0.1625 , 0.18125, 0.1625 , 0.18125, 0.18125,\n",
       "       0.19375, 0.20625, 0.225  , 0.2375 , 0.225  , 0.26875, 0.34375,\n",
       "       0.3125 , 0.28125, 0.25625, 0.19375, 0.10625, 0.     , 0.     ,\n",
       "       0.     , 0.075  , 0.10625, 0.13125, 0.1625 , 0.1625 , 0.19375,\n",
       "       0.225  , 0.325  , 0.325  , 0.7    , 0.775  , 0.7875 , 0.7875 ,\n",
       "       0.50625, 0.34375, 0.18125, 0.11875, 0.0875 , 0.0875 , 0.075  ,\n",
       "       0.075  , 0.075  , 0.075  , 0.075  , 0.075  , 0.075  , 0.0875 ,\n",
       "       0.075  , 0.075  , 0.075  , 0.075  , 0.075  , 0.075  , 0.075  ,\n",
       "       0.0625 , 0.075  , 0.075  , 0.075  , 0.075  , 0.075  , 0.0875 ,\n",
       "       0.0875 , 0.0875 , 0.0875 , 0.0875 , 0.0625 , 0.     , 0.     ,\n",
       "       0.     , 0.     , 0.     , 0.     , 0.     , 0.     , 0.     ,\n",
       "       0.     , 0.     , 0.     , 0.     , 0.     , 0.     , 0.     ,\n",
       "       0.     , 0.     , 0.     , 0.     , 0.     , 0.     , 0.     ,\n",
       "       0.     , 0.     , 0.     , 0.     , 0.     , 0.     , 0.     ,\n",
       "       0.     , 0.     , 0.     , 0.     , 0.     , 0.     , 0.     ,\n",
       "       0.     , 0.     , 0.     , 0.     , 0.     , 0.     , 0.     ,\n",
       "       0.     , 0.     , 0.     , 0.     , 0.     , 0.     , 0.     ,\n",
       "       0.     , 0.     , 0.     , 0.     , 0.     , 0.     , 0.     ,\n",
       "       0.     , 0.     , 0.     , 0.     , 0.     , 0.     , 0.     ,\n",
       "       0.     , 0.     , 0.     , 0.     , 0.     , 0.     , 0.     ,\n",
       "       0.     , 0.     , 0.     , 0.     , 0.     , 0.     , 0.     ,\n",
       "       0.     , 0.     , 0.03125, 0.0875 , 0.11875, 0.13125, 0.1625 ,\n",
       "       0.18125, 0.18125, 0.11875, 0.075  , 0.0875 , 0.075  , 0.075  ,\n",
       "       0.075  , 0.0625 , 0.0625 , 0.0625 , 0.0625 , 0.0625 , 0.15   ,\n",
       "       0.18125, 0.19375, 0.2375 , 0.26875, 0.325  , 0.34375, 0.41875,\n",
       "       0.41875, 0.43125, 0.4    , 0.4    , 0.375  , 0.4    , 0.41875,\n",
       "       0.475  , 0.625  , 0.7125 , 0.80625, 0.7875 , 0.7125 , 0.4625 ,\n",
       "       0.35625, 0.3    , 0.15   , 0.15   , 0.15   , 0.1625 , 0.1625 ,\n",
       "       0.15   , 0.1625 , 0.1625 , 0.1625 , 0.15   , 0.1625 , 0.15   ,\n",
       "       0.1625 , 0.1625 , 0.18125, 0.1625 , 0.1625 , 0.1625 , 0.1625 ,\n",
       "       0.1625 , 0.18125, 0.1625 , 0.18125, 0.18125, 0.18125, 0.18125,\n",
       "       0.18125, 0.18125, 0.18125, 0.18125, 0.18125, 0.19375, 0.18125,\n",
       "       0.18125, 0.1625 , 0.19375, 0.19375, 0.19375, 0.19375, 0.20625,\n",
       "       0.20625, 0.20625, 0.20625, 0.2375 , 0.225  , 0.2375 , 0.2375 ,\n",
       "       0.26875, 0.3    , 0.28125, 0.3    , 0.4625 , 0.41875, 0.35625,\n",
       "       0.3    , 0.25625, 0.11875, 0.     , 0.     , 0.     , 0.     ,\n",
       "       0.     , 0.     , 0.03125, 0.10625, 0.225  , 0.325  , 0.34375,\n",
       "       0.43125, 0.475  , 0.51875, 0.6125 , 0.50625, 0.475  , 0.475  ,\n",
       "       0.4625 , 0.25625, 0.15   , 0.0875 , 0.0875 , 0.0875 , 0.0875 ,\n",
       "       0.0875 , 0.0875 , 0.0875 , 0.0875 , 0.075  , 0.075  , 0.075  ,\n",
       "       0.075  , 0.0875 , 0.0875 , 0.0875 , 0.0875 , 0.075  , 0.075  ,\n",
       "       0.0875 , 0.0875 , 0.0875 , 0.0875 , 0.0875 , 0.28125, 0.35625,\n",
       "       0.375  , 0.4625 , 0.51875, 0.5375 , 0.56875, 0.51875, 0.35625,\n",
       "       0.19375, 0.15   , 0.10625, 0.0625 , 0.     , 0.     , 0.     ,\n",
       "       0.     , 0.     , 0.     , 0.     , 0.04375, 0.10625, 0.1625 ,\n",
       "       0.20625, 0.25625, 0.26875, 0.3125 , 0.4    , 0.41875, 0.3875 ,\n",
       "       0.34375, 0.3    , 0.2375 , 0.13125, 0.075  , 0.04375, 0.     ,\n",
       "       0.     , 0.     , 0.     , 0.     , 0.     , 0.     , 0.15   ,\n",
       "       0.34375, 0.41875, 0.4625 , 0.49375, 0.49375, 0.4625 , 0.2375 ,\n",
       "       0.1625 , 0.15   , 0.13125, 0.13125, 0.11875, 0.10625, 0.10625,\n",
       "       0.0875 , 0.0875 , 0.0875 , 0.075  , 0.075  , 0.075  , 0.0875 ,\n",
       "       0.0875 , 0.0875 , 0.0875 , 0.10625, 0.10625, 0.0875 , 0.11875,\n",
       "       0.0875 , 0.10625, 0.10625, 0.10625, 0.11875, 0.11875, 0.26875,\n",
       "       0.41875, 0.41875, 0.41875, 0.43125, 0.44375, 0.4625 , 0.3875 ,\n",
       "       0.3125 , 0.11875, 0.10625, 0.10625, 0.0875 , 0.0875 , 0.0875 ,\n",
       "       0.0875 , 0.0875 , 0.0875 , 0.0875 , 0.0875 , 0.0875 , 0.10625,\n",
       "       0.10625, 0.10625, 0.11875, 0.11875, 0.11875, 0.11875, 0.13125,\n",
       "       0.13125, 0.13125, 0.11875, 0.11875, 0.13125, 0.15   , 0.15   ,\n",
       "       0.19375, 0.325  , 0.3875 , 0.43125, 0.44375, 0.4625 , 0.3875 ,\n",
       "       0.34375, 0.3125 , 0.3    , 0.19375, 0.18125, 0.18125, 0.18125,\n",
       "       0.18125, 0.1625 , 0.1625 , 0.15   , 0.1625 , 0.1625 , 0.18125,\n",
       "       0.18125, 0.18125, 0.19375, 0.18125, 0.18125, 0.18125, 0.19375,\n",
       "       0.20625, 0.18125, 0.225  , 0.2375 , 0.26875, 0.3875 , 0.44375,\n",
       "       0.3875 , 0.375  , 0.3125 , 0.2375 , 0.10625, 0.     , 0.     ,\n",
       "       0.     , 0.     , 0.     , 0.     , 0.     , 0.     , 0.     ,\n",
       "       0.     , 0.     , 0.     , 0.     , 0.     , 0.     , 0.     ,\n",
       "       0.     , 0.     , 0.     , 0.     , 0.     , 0.     , 0.0625 ,\n",
       "       0.1625 , 0.225  , 0.26875, 0.325  , 0.3875 , 0.3875 , 0.4    ,\n",
       "       0.41875, 0.44375, 0.44375, 0.43125, 0.41875, 0.41875, 0.41875,\n",
       "       0.4    , 0.28125, 0.225  , 0.20625, 0.20625, 0.20625, 0.1625 ,\n",
       "       0.18125, 0.1625 , 0.15   , 0.13125, 0.13125, 0.11875, 0.11875,\n",
       "       0.11875, 0.11875, 0.11875, 0.10625, 0.10625, 0.0875 , 0.0875 ,\n",
       "       0.0875 , 0.10625, 0.0875 , 0.0875 , 0.0875 , 0.0875 , 0.10625,\n",
       "       0.0875 , 0.0875 , 0.10625, 0.10625, 0.13125, 0.15   , 0.34375,\n",
       "       0.59375, 0.59375, 0.6125 , 0.59375, 0.55   , 0.28125, 0.     ,\n",
       "       0.     , 0.     , 0.     , 0.     , 0.     , 0.     , 0.     ,\n",
       "       0.     , 0.     , 0.     , 0.     , 0.     , 0.     , 0.     ,\n",
       "       0.     , 0.     , 0.     , 0.     , 0.     , 0.     ])"
      ]
     },
     "execution_count": 170,
     "metadata": {},
     "output_type": "execute_result"
    }
   ],
   "source": [
    "hist/max(hist)"
   ]
  },
  {
   "cell_type": "code",
   "execution_count": 10,
   "metadata": {},
   "outputs": [],
   "source": [
    "rec_page=model_recg.inferBatch(image_lst)"
   ]
  },
  {
   "cell_type": "code",
   "execution_count": 44,
   "metadata": {},
   "outputs": [
    {
     "data": {
      "text/plain": [
       "255"
      ]
     },
     "execution_count": 44,
     "metadata": {},
     "output_type": "execute_result"
    }
   ],
   "source": [
    "temp.max()"
   ]
  },
  {
   "cell_type": "code",
   "execution_count": 45,
   "metadata": {},
   "outputs": [
    {
     "data": {
      "text/plain": [
       "255"
      ]
     },
     "execution_count": 45,
     "metadata": {},
     "output_type": "execute_result"
    }
   ],
   "source": [
    "temp.max()"
   ]
  },
  {
   "cell_type": "code",
   "execution_count": 14,
   "metadata": {},
   "outputs": [
    {
     "data": {
      "image/png": "[encoded data removed]",
      "text/plain": [
       "<PIL.Image.Image image mode=L size=32x128 at 0x7F0008233240>"
      ]
     },
     "execution_count": 14,
     "metadata": {},
     "output_type": "execute_result"
    }
   ],
   "source": [
    "n=4\n",
    "Image.fromarray(image_lst[5])"
   ]
  },
  {
   "cell_type": "code",
   "execution_count": 11,
   "metadata": {},
   "outputs": [
    {
     "data": {
      "text/plain": [
       "['NAME',\n",
       " 'HOMETOWN',\n",
       " 'DAM',\n",
       " 'CHMERCCKC',\n",
       " 'NEW',\n",
       " 'Yon4',\n",
       " '1alin',\n",
       " 'Vi599',\n",
       " 'westches',\n",
       " 'pw',\n",
       " 'Ny',\n",
       " 'KiRANSDT',\n",
       " 'DHIUON',\n",
       " 'CAAND',\n",
       " 'GAR',\n",
       " 'M',\n",
       " 'TNNMAt',\n",
       " 'North',\n",
       " 'Tcrryton',\n",
       " 'Ny']"
      ]
     },
     "execution_count": 11,
     "metadata": {},
     "output_type": "execute_result"
    }
   ],
   "source": [
    "rec_page"
   ]
  },
  {
   "cell_type": "code",
   "execution_count": null,
   "metadata": {},
   "outputs": [],
   "source": []
  },
  {
   "cell_type": "code",
   "execution_count": null,
   "metadata": {},
   "outputs": [],
   "source": [
    "Image.fromarray(img_dtct)"
   ]
  },
  {
   "cell_type": "markdown",
   "metadata": {},
   "source": [
    "# log to Commet"
   ]
  },
  {
   "cell_type": "code",
   "execution_count": 12,
   "metadata": {},
   "outputs": [
    {
     "data": {
      "text/plain": [
       "{'api': 'https://www.comet.ml/api/rest/v1/image/get-image?imageId=e3c03dc9d6084b10960fa22ac6487166&experimentKey=809f8e2e9e1543d6a0f9460b6db544f6',\n",
       " 'web': 'https://www.comet.ml/api/image/download?imageId=e3c03dc9d6084b10960fa22ac6487166&experimentKey=809f8e2e9e1543d6a0f9460b6db544f6'}"
      ]
     },
     "execution_count": 12,
     "metadata": {},
     "output_type": "execute_result"
    }
   ],
   "source": [
    "experiment.log_image(test_dir+'check_aeast_detect.jpg')"
   ]
  },
  {
   "cell_type": "code",
   "execution_count": 12,
   "metadata": {},
   "outputs": [
    {
     "data": {
      "image/png": "[encoded data removed]",
      "text/plain": [
       "<matplotlib.figure.Figure at 0x7f006007d630>"
      ]
     },
     "metadata": {
      "needs_background": "light"
     },
     "output_type": "display_data"
    }
   ],
   "source": [
    "im_cum=0\n",
    "for idx,orig_crop in enumerate(crops):\n",
    "    orig_crop=cv2.transpose(cv2.cvtColor(orig_crop, cv2.COLOR_BGR2GRAY))\n",
    "    end_pos=im_cum+seg_size[idx]\n",
    "    img_group=image_lst[im_cum:end_pos]\n",
    "    rec_group=rec_page[im_cum:end_pos]\n",
    "    text='['+str(idx)+']: '+' '.join(rec_group)\n",
    "    #print(orig_crop.shape)\n",
    "    log_image(experiment, cv2.resize(orig_crop, (32,128), interpolation=cv2.INTER_CUBIC), text, '', test_dir, counter=str(idx), epoch=str('A'))\n",
    "    for idxx, mini_crop in enumerate(img_group):\n",
    "        text='['+str(idx)+'.'+str(idxx)+']: '+rec_group[idxx]\n",
    "        log_image(experiment, cv2.resize(mini_crop, (32,128), interpolation=cv2.INTER_CUBIC), text, '', test_dir, counter=str(idx), epoch=str(idxx))\n",
    "    im_cum=end_pos"
   ]
  },
  {
   "cell_type": "code",
   "execution_count": null,
   "metadata": {},
   "outputs": [],
   "source": []
  }
 ],
 "metadata": {
  "kernelspec": {
   "display_name": "Python 3",
   "language": "python",
   "name": "python3"
  },
  "language_info": {
   "codemirror_mode": {
    "name": "ipython",
    "version": 3
   },
   "file_extension": ".py",
   "mimetype": "text/x-python",
   "name": "python",
   "nbconvert_exporter": "python",
   "pygments_lexer": "ipython3",
   "version": "3.5.2"
  }
 },
 "nbformat": 4,
 "nbformat_minor": 2
}
