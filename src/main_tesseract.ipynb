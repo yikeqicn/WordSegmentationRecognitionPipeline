{
 "cells": [
  {
   "cell_type": "code",
   "execution_count": 1,
   "metadata": {},
   "outputs": [],
   "source": [
    "experiment=None"
   ]
  },
  {
   "cell_type": "code",
   "execution_count": 2,
   "metadata": {
    "scrolled": true
   },
   "outputs": [
    {
     "name": "stderr",
     "output_type": "stream",
     "text": [
      "COMET INFO: old comet version (1.0.44) detected. current: 1.0.51 please update your comet lib with command: `pip install --no-cache-dir --upgrade comet_ml`\n",
      "COMET WARNING: Failing to collect the installed os packages\n",
      "COMET INFO: Experiment is live on comet.ml https://www.comet.ml/yikeqicn/ocr-pipeline/809f8e2e9e1543d6a0f9460b6db544f6\n",
      "\n"
     ]
    }
   ],
   "source": [
    "# experiment (optional)\n",
    "from comet_ml import Experiment\n",
    "experiment = Experiment(api_key=\"YkPEmantOag1R1VOJmXz11hmt\", parse_args=False, project_name='ocr_pipeline')\n",
    "experiment.set_name('segmentation_debug')"
   ]
  },
  {
   "cell_type": "markdown",
   "metadata": {},
   "source": [
    "# Import"
   ]
  },
  {
   "cell_type": "code",
   "execution_count": 2,
   "metadata": {},
   "outputs": [],
   "source": [
    "import os\n",
    "from glob import glob\n",
    "import cv2\n",
    "import matplotlib.pyplot as plt\n",
    "import numpy as np\n",
    "from os.path import join, basename, dirname\n",
    "from numpy.random import choice, normal, rand, randint,uniform\n",
    "from functools import reduce\n",
    "from wordsegmentation.WordSegmentation import *\n",
    "import argparse\n",
    "from imutils.object_detection import non_max_suppression\n",
    "from operator import itemgetter"
   ]
  },
  {
   "cell_type": "code",
   "execution_count": 17,
   "metadata": {},
   "outputs": [],
   "source": [
    "import numpy as np\n",
    "import argparse\n",
    "import time\n",
    "import cv2\n",
    "import os\n",
    "import tensorflow as tf\n",
    "from glob import glob\n",
    "from os.path import join, basename, dirname\n",
    "#from east.model import *\n",
    "from recognition.Model import Model, DecoderType\n",
    "from recognition.utils import log_image\n",
    "import pytesseract as pt"
   ]
  },
  {
   "cell_type": "markdown",
   "metadata": {},
   "source": [
    "# Parameters"
   ]
  },
  {
   "cell_type": "code",
   "execution_count": 4,
   "metadata": {},
   "outputs": [],
   "source": [
    "parser = argparse.ArgumentParser()\n",
    "# Recognition Model\n",
    "# basic operations\n",
    "parser.add_argument(\"-name\", default='dense_128_32_noartifact_beamsearch_5_datasets', type=str, help=\"name of the log\")\n",
    "parser.add_argument(\"-gpu\", default='-1', type=str, help=\"gpu numbers\")\n",
    "#parser.add_argument(\"-train\", help=\"train the NN\", action=\"store_true\")\n",
    "#parser.add_argument(\"-validate\", help=\"validate the NN\", action=\"store_true\")\n",
    "parser.add_argument(\"-transfer\", action=\"store_true\")\n",
    "#actually not effective:\n",
    "parser.add_argument(\"-batchesTrained\", default=0, type=int, help='number of batches already trained (for lr schedule)') \n",
    "# beam search\n",
    "parser.add_argument(\"-beamsearch\", help=\"use beam search instead of best path decoding\",default=True, action=\"store_true\")\n",
    "parser.add_argument(\"-wordbeamsearch\", help=\"use word beam search instead of best path decoding\", action=\"store_true\")\n",
    "# training hyperparam\n",
    "parser.add_argument(\"-batchsize\", default=50, type=int, help='batch size') # actually not effective in infrerence\n",
    "parser.add_argument(\"-lrInit\", default=1e-2, type=float, help='initial learning rate') # actually not effective\n",
    "parser.add_argument(\"-optimizer\", default='rmsprop', help=\"adam, rmsprop, momentum\") # actually not effective\n",
    "parser.add_argument(\"-wdec\", default=1e-4, type=float, help='weight decay') # acctually not effective\n",
    "#parser.add_argument(\"-lrDrop1\", default=10, type=int, help='step to drop lr by 10 first time')\n",
    "#parser.add_argument(\"-lrDrop2\", default=1000, type=int, help='step to drop lr by 10 sexond time')\n",
    "#parser.add_argument(\"-epochEnd\", default=40, type=int, help='end after this many epochs')\n",
    "# trainset hyperparam\n",
    "#parser.add_argument(\"-noncustom\", help=\"noncustom (original) augmentation technique\", action=\"store_true\")\n",
    "#parser.add_argument(\"-noartifact\", help=\"dont insert artifcats\", action=\"store_true\")\n",
    "#parser.add_argument(\"-iam\", help='use iam dataset', action='store_true')\n",
    "# densenet hyperparam\n",
    "parser.add_argument(\"-nondensenet\", help=\"use noncustom (original) vanilla cnn\", action=\"store_true\")\n",
    "parser.add_argument(\"-growth_rate\", default=12, type=int, help='growth rate (k)')\n",
    "parser.add_argument(\"-layers_per_block\", default=18, type=int, help='number of layers per block')\n",
    "parser.add_argument(\"-total_blocks\", default=5, type=int, help='nuber of densenet blocks')\n",
    "parser.add_argument(\"-keep_prob\", default=1, type=float, help='keep probability in dropout')\n",
    "parser.add_argument(\"-reduction\", default=0.4, type=float, help='reduction factor in 1x1 conv in transition layers')\n",
    "parser.add_argument(\"-bc_mode\", default=True, type=bool, help=\"bottleneck and compresssion mode\")\n",
    "# rnn,  hyperparams\n",
    "parser.add_argument(\"-rnndim\", default=256, type=int, help='rnn dimenstionality') #256\n",
    "parser.add_argument(\"-rnnsteps\", default=32, type=int, help='number of desired time steps (image slices) to feed rnn')\n",
    "# img size\n",
    "parser.add_argument(\"-imgsize\", default=[128,32], type=int, nargs='+') #qyk default 128,32\n",
    "# testset crop\n",
    "#parser.add_argument(\"-crop_r1\", default=3, type=int)\n",
    "#parser.add_argument(\"-crop_r2\", default=28, type=int)\n",
    "#parser.add_argument(\"-crop_c1\", default=10, type=int)\n",
    "#parser.add_argument(\"-crop_c2\", default=115, type=int)\n",
    "# filepaths\n",
    "#parser.add_argument(\"-dataroot\", default='/root/datasets', type=str)\n",
    "parser.add_argument(\"-ckptroot\", default='/root/ckpt', type=str)\n",
    "#parser.add_argument(\"-urlTransferFrom\", default=None, type=str)\n",
    "\n",
    "args = parser.parse_known_args()[0]\n",
    "home = os.environ['HOME']\n",
    "name = args.name\n",
    "ckptroot = join(home, 'ckpt')\n",
    "args.ckptpath = join(ckptroot, name)\n",
    "os.environ['CUDA_VISIBLE_DEVICES'] = args.gpu"
   ]
  },
  {
   "cell_type": "code",
   "execution_count": 13,
   "metadata": {},
   "outputs": [],
   "source": [
    "#orig_dir='/root/datasets/img_print_100000_en/'\n",
    "#target_dir='/root/datasets/artifact_images_no_intersect/artifact_images_no_intersect/images_bin/'\n",
    "input_dir='/root/WordSegmentationRecognitionPipeline/src/Inputs/'\n",
    "test_dir='/root/WordSegmentationRecognitionPipeline/src/tesseract_recognition/'"
   ]
  },
  {
   "cell_type": "markdown",
   "metadata": {},
   "source": [
    "# Initiate Models\n"
   ]
  },
  {
   "cell_type": "code",
   "execution_count": 6,
   "metadata": {},
   "outputs": [
    {
     "name": "stdout",
     "output_type": "stream",
     "text": [
      "Build Densenet4htr model with 5 blocks, 9 bottleneck layers and 9 composite layers each.\n",
      "Depth: 96\n",
      "Reduction at transition layers: 0.4\n",
      "WARNING:tensorflow:From /usr/local/lib/python3.5/dist-packages/tensorflow/python/framework/op_def_library.py:263: colocate_with (from tensorflow.python.framework.ops) is deprecated and will be removed in a future version.\n",
      "Instructions for updating:\n",
      "Colocations handled automatically by placer.\n",
      "densenet feature extractor graph built in (sec): 7.381594896316528\n",
      "Total training params: 0.5M\n",
      "shape of cnn output: [None, 32, 1, 178]\n",
      "WARNING:tensorflow:From /root/WordSegmentationRecognitionPipeline/src/recognition/Model.py:102: LSTMCell.__init__ (from tensorflow.python.ops.rnn_cell_impl) is deprecated and will be removed in a future version.\n",
      "Instructions for updating:\n",
      "This class is equivalent as tf.keras.layers.LSTMCell, and will be replaced by that in Tensorflow 2.0.\n",
      "WARNING:tensorflow:From /root/WordSegmentationRecognitionPipeline/src/recognition/Model.py:105: MultiRNNCell.__init__ (from tensorflow.python.ops.rnn_cell_impl) is deprecated and will be removed in a future version.\n",
      "Instructions for updating:\n",
      "This class is equivalent as tf.keras.layers.StackedRNNCells, and will be replaced by that in Tensorflow 2.0.\n",
      "WARNING:tensorflow:From /root/WordSegmentationRecognitionPipeline/src/recognition/Model.py:110: bidirectional_dynamic_rnn (from tensorflow.python.ops.rnn) is deprecated and will be removed in a future version.\n",
      "Instructions for updating:\n",
      "Please use `keras.layers.Bidirectional(keras.layers.RNN(cell))`, which is equivalent to this API\n",
      "WARNING:tensorflow:From /usr/local/lib/python3.5/dist-packages/tensorflow/python/ops/rnn.py:443: dynamic_rnn (from tensorflow.python.ops.rnn) is deprecated and will be removed in a future version.\n",
      "Instructions for updating:\n",
      "Please use `keras.layers.RNN(cell)`, which is equivalent to this API\n",
      "Python: 3.5.2 (default, Nov 12 2018, 13:43:14) \n",
      "[GCC 5.4.0 20160609]\n",
      "Tensorflow: 1.12.0-rc0\n",
      "WARNING:tensorflow:From /usr/local/lib/python3.5/dist-packages/tensorflow/python/training/saver.py:1557: checkpoint_exists (from tensorflow.python.training.checkpoint_management) is deprecated and will be removed in a future version.\n",
      "Instructions for updating:\n",
      "Use standard file APIs to check for files with this prefix.\n",
      "INFO:tensorflow:Restoring parameters from /root/ckpt/dense_128_32_noartifact_beamsearch_5_datasets/model-35\n",
      "Init with stored values from /root/ckpt/dense_128_32_noartifact_beamsearch_5_datasets/model-35\n"
     ]
    }
   ],
   "source": [
    "decoderType = DecoderType.BestPath\n",
    "if args.beamsearch:\n",
    "    decoderType = DecoderType.BeamSearch\n",
    "elif args.wordbeamsearch:\n",
    "    decoderType = DecoderType.WordBeamSearch\n",
    "\n",
    "model_recg = Model(args, open(join(args.ckptpath, 'charList.txt')).read(), decoderType, mustRestore=True)"
   ]
  },
  {
   "cell_type": "markdown",
   "metadata": {},
   "source": [
    "# Tesseract + Recognition Demo\n",
    "### ---TroubleShooting"
   ]
  },
  {
   "cell_type": "code",
   "execution_count": 15,
   "metadata": {},
   "outputs": [],
   "source": [
    "orig_img=cv2.imread(input_dir+'check.jpg')"
   ]
  },
  {
   "cell_type": "code",
   "execution_count": 37,
   "metadata": {},
   "outputs": [],
   "source": [
    "boxes=pt.image_to_osd(orig_img)"
   ]
  },
  {
   "cell_type": "code",
   "execution_count": 38,
   "metadata": {},
   "outputs": [
    {
     "data": {
      "text/plain": [
       "'Page number: 0\\nOrientation in degrees: 270\\nRotate: 90\\nOrientation confidence: 0.32\\nScript: Arabic\\nScript confidence: 0.00'"
      ]
     },
     "execution_count": 38,
     "metadata": {},
     "output_type": "execute_result"
    }
   ],
   "source": [
    "boxes"
   ]
  },
  {
   "cell_type": "code",
   "execution_count": 36,
   "metadata": {},
   "outputs": [
    {
     "data": {
      "text/plain": [
       "LooseVersion ('3.04.01')"
      ]
     },
     "execution_count": 36,
     "metadata": {},
     "output_type": "execute_result"
    }
   ],
   "source": [
    "pt.get_tesseract_version()"
   ]
  },
  {
   "cell_type": "code",
   "execution_count": 35,
   "metadata": {},
   "outputs": [
    {
     "ename": "TSVNotSupported",
     "evalue": "TSV output not supported. Tesseract >= 3.05 required",
     "output_type": "error",
     "traceback": [
      "\u001b[0;31m---------------------------------------------------------------------------\u001b[0m",
      "\u001b[0;31mTSVNotSupported\u001b[0m                           Traceback (most recent call last)",
      "\u001b[0;32m<ipython-input-35-712aac3745fa>\u001b[0m in \u001b[0;36m<module>\u001b[0;34m\u001b[0m\n\u001b[0;32m----> 1\u001b[0;31m \u001b[0mpt\u001b[0m\u001b[0;34m.\u001b[0m\u001b[0mimage_to_data\u001b[0m\u001b[0;34m(\u001b[0m\u001b[0morig_img\u001b[0m\u001b[0;34m)\u001b[0m\u001b[0;34m\u001b[0m\u001b[0m\n\u001b[0m",
      "\u001b[0;32m/usr/local/lib/python3.5/dist-packages/pytesseract/pytesseract.py\u001b[0m in \u001b[0;36mimage_to_data\u001b[0;34m(image, lang, config, nice, output_type)\u001b[0m\n\u001b[1;32m    369\u001b[0m \u001b[0;34m\u001b[0m\u001b[0m\n\u001b[1;32m    370\u001b[0m     \u001b[0;32mif\u001b[0m \u001b[0mget_tesseract_version\u001b[0m\u001b[0;34m(\u001b[0m\u001b[0;34m)\u001b[0m \u001b[0;34m<\u001b[0m \u001b[0;34m'3.05'\u001b[0m\u001b[0;34m:\u001b[0m\u001b[0;34m\u001b[0m\u001b[0m\n\u001b[0;32m--> 371\u001b[0;31m         \u001b[0;32mraise\u001b[0m \u001b[0mTSVNotSupported\u001b[0m\u001b[0;34m(\u001b[0m\u001b[0;34m)\u001b[0m\u001b[0;34m\u001b[0m\u001b[0m\n\u001b[0m\u001b[1;32m    372\u001b[0m \u001b[0;34m\u001b[0m\u001b[0m\n\u001b[1;32m    373\u001b[0m     \u001b[0mconfig\u001b[0m \u001b[0;34m=\u001b[0m \u001b[0;34m'{} {}'\u001b[0m\u001b[0;34m.\u001b[0m\u001b[0mformat\u001b[0m\u001b[0;34m(\u001b[0m\u001b[0;34m'-c tessedit_create_tsv=1'\u001b[0m\u001b[0;34m,\u001b[0m \u001b[0mconfig\u001b[0m\u001b[0;34m.\u001b[0m\u001b[0mstrip\u001b[0m\u001b[0;34m(\u001b[0m\u001b[0;34m)\u001b[0m\u001b[0;34m)\u001b[0m\u001b[0;34m.\u001b[0m\u001b[0mstrip\u001b[0m\u001b[0;34m(\u001b[0m\u001b[0;34m)\u001b[0m\u001b[0;34m\u001b[0m\u001b[0m\n",
      "\u001b[0;31mTSVNotSupported\u001b[0m: TSV output not supported. Tesseract >= 3.05 required"
     ]
    }
   ],
   "source": [
    "pt.image_to_data(orig_img)"
   ]
  },
  {
   "cell_type": "code",
   "execution_count": 34,
   "metadata": {},
   "outputs": [
    {
     "name": "stdout",
     "output_type": "stream",
     "text": [
      "(3024, 4032)\n",
      "['M', '362', '2106', '425', '2168', '0']\n",
      "['A', '434', '2105', '492', '2166', '0']\n",
      "['X', '490', '2104', '539', '2166', '0']\n",
      "['I', '548', '2104', '561', '2165', '0']\n",
      "['M', '575', '2103', '634', '2164', '0']\n",
      "['O', '679', '2101', '737', '2163', '0']\n",
      "['G', '746', '2101', '801', '2163', '0']\n",
      "['I', '813', '2101', '825', '2161', '0']\n",
      "['E', '839', '2101', '882', '2161', '0']\n",
      "['N', '894', '2099', '943', '2160', '0']\n",
      "['K', '956', '2098', '1007', '2159', '0']\n",
      "['O', '1013', '2096', '1072', '2159', '0']\n",
      "['6', '2494', '2129', '2519', '2173', '0']\n",
      "['3', '2522', '2129', '2546', '2173', '0']\n",
      "['2', '2536', '2052', '2560', '2095', '0']\n",
      "['6', '2563', '2051', '2587', '2095', '0']\n",
      "['3', '2580', '2052', '2616', '2172', '0']\n",
      "['3', '2607', '2051', '2641', '2171', '0']\n",
      "['1', '2640', '2129', '2653', '2171', '0']\n",
      "['3', '2662', '2127', '2687', '2172', '0']\n",
      "['4', '2694', '2091', '2739', '2153', '0']\n",
      "['0', '2745', '2088', '2790', '2154', '0']\n",
      "['9', '2794', '2088', '2839', '2154', '0']\n",
      "['6', '2843', '2087', '2888', '2153', '0']\n",
      "['7', '2895', '2088', '2939', '2150', '0']\n",
      "['2', '3539', '2073', '3602', '2159', '0']\n",
      "['1', '3624', '2071', '3681', '2157', '0']\n",
      "['9', '3708', '2069', '3770', '2157', '0']\n",
      "['P', '365', '2031', '399', '2078', '0']\n",
      "['H', '407', '2030', '445', '2078', '0']\n",
      "['3', '498', '2028', '529', '2075', '0']\n",
      "['5', '534', '2027', '564', '2073', '0']\n",
      "['2', '571', '2028', '599', '2074', '0']\n",
      "['-', '608', '2043', '621', '2047', '0']\n",
      "['8', '627', '2026', '657', '2073', '0']\n",
      "['T', '665', '2038', '694', '2072', '0']\n",
      "['O', '702', '2026', '732', '2072', '0']\n",
      "['—', '737', '2042', '751', '2046', '0']\n",
      "['4', '756', '2031', '787', '2069', '0']\n",
      "['4', '793', '2027', '823', '2069', '0']\n",
      "['5', '829', '2024', '859', '2070', '0']\n",
      "['6', '866', '2023', '896', '2071', '0']\n",
      "['7', '367', '1953', '397', '1998', '0']\n",
      "['P', '432', '1953', '463', '1999', '0']\n",
      "['E', '473', '1952', '506', '1999', '0']\n",
      "['T', '511', '1953', '541', '1998', '0']\n",
      "['E', '553', '1950', '586', '1997', '0']\n",
      "['R', '595', '1950', '629', '1997', '0']\n",
      "['C', '662', '1948', '702', '1997', '0']\n",
      "['O', '710', '1948', '753', '1996', '0']\n",
      "['O', '761', '1947', '803', '1996', '0']\n",
      "['P', '813', '1948', '844', '1994', '0']\n",
      "['E', '855', '1947', '888', '1994', '0']\n",
      "['R', '896', '1946', '931', '1993', '0']\n",
      "['R', '966', '1946', '1000', '1993', '0']\n",
      "['O', '1008', '1943', '1052', '1992', '0']\n",
      "['A', '1057', '1943', '1096', '1990', '0']\n",
      "['D', '1105', '1943', '1143', '1990', '0']\n",
      "['.', '1151', '1937', '1157', '1949', '0']\n",
      "['A', '1191', '1941', '1230', '1987', '0']\n",
      "['P', '1237', '1941', '1270', '1987', '0']\n",
      "['T', '1275', '1940', '1309', '1987', '0']\n",
      "['i', '1318', '1939', '1324', '1946', '0']\n",
      "['9', '1358', '1937', '1390', '1984', '0']\n",
      "['D', '1397', '1937', '1436', '1984', '0']\n",
      "['N', '372', '1877', '409', '1923', '0']\n",
      "['E', '419', '1875', '452', '1922', '0']\n",
      "['\\\\', '457', '1876', '475', '1921', '0']\n",
      "['»', '475', '1886', '479', '1898', '0']\n",
      "['N', '479', '1877', '507', '1922', '0']\n",
      "['’', '504', '1896', '510', '1917', '0']\n",
      "['\\\\', '542', '1876', '565', '1920', '0']\n",
      "['J', '565', '1903', '569', '1910', '0']\n",
      "['’', '569', '1906', '577', '1920', '0']\n",
      "['O', '585', '1873', '627', '1921', '0']\n",
      "['R', '636', '1874', '670', '1920', '0']\n",
      "['K', '681', '1873', '715', '1918', '0']\n",
      "['.', '723', '1872', '728', '1878', '0']\n",
      "['N', '766', '1872', '802', '1918', '0']\n",
      "['Y', '809', '1872', '845', '1917', '0']\n",
      "['1', '913', '1870', '928', '1912', '0']\n",
      "['0', '946', '1868', '977', '1914', '0']\n",
      "['0', '982', '1868', '1013', '1914', '0']\n",
      "['1', '1022', '1869', '1038', '1911', '0']\n",
      "['0', '1054', '1867', '1085', '1913', '0']\n",
      "['D', '2481', '1866', '2509', '1902', '0']\n",
      "['A', '2512', '1867', '2541', '1901', '0']\n",
      "['T', '2545', '1867', '2570', '1902', '0']\n",
      "['E', '2574', '1866', '2592', '1902', '0']\n",
      "['1', '2760', '1940', '2764', '1948', '0']\n",
      "['P', '2858', '1884', '2920', '1901', '0']\n",
      "['l', '2941', '1871', '2956', '1952', '0']\n",
      "['8', '2997', '1865', '3065', '1964', '0']\n",
      "[\"'\", '3107', '1906', '3110', '1910', '0']\n",
      "['*', '3111', '1905', '3157', '1918', '0']\n",
      "['Z', '3180', '1862', '3252', '1956', '0']\n",
      "['0', '3256', '1864', '3317', '1937', '0']\n",
      "['!', '3335', '1869', '3349', '1937', '0']\n",
      "['q', '3385', '1832', '3448', '1943', '0']\n",
      "['3', '751', '1627', '817', '1752', '0']\n",
      "['T', '859', '1613', '918', '1696', '0']\n",
      "['h', '954', '1630', '1005', '1718', '0']\n",
      "['L', '1148', '1640', '1196', '1711', '0']\n",
      "['E', '1225', '1626', '1317', '1745', '0']\n",
      "['(', '1449', '1670', '1458', '1718', '0']\n",
      "['\\\\', '1469', '1687', '1533', '1731', '0']\n",
      "['m', '1517', '1609', '1587', '1613', '0']\n",
      "['L', '1556', '1607', '1728', '1736', '0']\n",
      "['m', '1728', '1607', '1775', '1610', '0']\n",
      "[']', '1776', '1605', '1869', '1734', '0']\n",
      "['-', '1861', '1606', '1888', '1608', '0']\n",
      "['}', '1883', '1605', '1948', '1718', '0']\n",
      "['_', '1933', '1605', '1970', '1608', '0']\n",
      "['_', '1976', '1604', '2046', '1607', '0']\n",
      "['_', '2051', '1603', '2071', '1606', '0']\n",
      "['A', '2072', '1603', '2099', '1605', '0']\n",
      "['w', '2102', '1602', '2132', '1605', '0']\n",
      "['0', '2166', '1602', '2175', '1604', '0']\n",
      "['_', '2176', '1602', '2202', '1604', '0']\n",
      "['_', '2208', '1602', '2216', '1604', '0']\n",
      "['0', '2221', '1601', '2239', '1604', '0']\n",
      "['_', '2251', '1600', '2312', '1603', '0']\n",
      "['@', '2312', '1592', '3013', '1672', '0']\n",
      "['$', '3077', '1597', '3139', '1694', '0']\n",
      "['[', '3243', '1591', '3262', '1666', '0']\n",
      "['0', '3297', '1590', '3380', '1674', '0']\n",
      "['0', '3409', '1590', '3495', '1672', '0']\n",
      "['’', '3539', '1595', '3559', '1621', '0']\n",
      "['m', '3586', '1568', '3757', '1675', '0']\n",
      "['{', '890', '1420', '905', '1471', '0']\n",
      "['w', '907', '1460', '957', '1469', '0']\n",
      "['i', '958', '1419', '979', '1502', '0']\n",
      "['K', '1012', '1430', '1053', '1496', '0']\n",
      "['k', '1102', '1439', '1175', '1501', '0']\n",
      "['D', '1202', '1434', '1273', '1517', '0']\n",
      "['R', '1318', '1409', '1410', '1521', '0']\n",
      "['E', '1419', '1426', '1522', '1515', '0']\n",
      "['D', '1526', '1405', '1648', '1522', '0']\n",
      "['.', '1651', '1413', '1653', '1415', '0']\n",
      "['_', '1655', '1412', '1673', '1415', '0']\n",
      "[';', '1673', '1411', '1748', '1461', '0']\n",
      "['‘', '1747', '1459', '1757', '1465', '0']\n",
      "['.', '1755', '1412', '1762', '1415', '0']\n",
      "[':', '1765', '1410', '1888', '1467', '0']\n",
      "[':', '1873', '1410', '1934', '1470', '0']\n",
      "[':', '1932', '1408', '2107', '1471', '0']\n",
      "['_', '2109', '1408', '2124', '1410', '0']\n",
      "['_', '2127', '1407', '2151', '1410', '0']\n",
      "[':', '2152', '1406', '2232', '1466', '0']\n",
      "['H', '2236', '1457', '2272', '1463', '0']\n",
      "['W', '2282', '1455', '2301', '1460', '0']\n",
      "['M', '2305', '1450', '2382', '1461', '0']\n",
      "['‘', '2410', '1453', '2433', '1460', '0']\n",
      "['M', '2436', '1444', '2720', '1460', '0']\n",
      "[\"'\", '2733', '1441', '2781', '1448', '0']\n",
      "['D', '3191', '1410', '3219', '1445', '0']\n",
      "['O', '3223', '1409', '3258', '1445', '0']\n",
      "['M', '3264', '1408', '3334', '1443', '0']\n",
      "['R', '3336', '1409', '3360', '1443', '0']\n",
      "['S', '3361', '1408', '3384', '1443', '0']\n",
      "['a', '3456', '1394', '3520', '1484', '0']\n",
      "['m', '3586', '1419', '3683', '1466', '0']\n",
      "['‘', '3686', '1446', '3700', '1465', '0']\n",
      "['m', '3701', '1444', '3761', '1463', '0']\n",
      "['“', '3760', '1444', '3788', '1460', '0']\n",
      "['m', '3586', '1393', '3616', '1414', '0']\n",
      "['u', '3617', '1393', '3663', '1414', '0']\n",
      "['m', '3671', '1393', '3699', '1408', '0']\n",
      "['m', '3707', '1392', '3768', '1413', '0']\n",
      "['J', '387', '1173', '404', '1211', '0']\n",
      "['P', '411', '1172', '438', '1210', '0']\n",
      "['M', '443', '1172', '485', '1210', '0']\n",
      "['o', '492', '1171', '520', '1199', '0']\n",
      "['r', '526', '1172', '543', '1198', '0']\n",
      "['g', '546', '1159', '573', '1198', '0']\n",
      "['a', '579', '1170', '603', '1198', '0']\n",
      "['n', '611', '1170', '636', '1198', '0']\n",
      "['C', '662', '1169', '693', '1208', '0']\n",
      "['h', '697', '1168', '725', '1209', '0']\n",
      "['a', '728', '1168', '753', '1196', '0']\n",
      "['s', '759', '1168', '780', '1196', '0']\n",
      "['e', '783', '1166', '809', '1196', '0']\n",
      "['B', '833', '1166', '860', '1205', '0']\n",
      "['a', '864', '1165', '890', '1195', '0']\n",
      "['n', '897', '1165', '924', '1194', '0']\n",
      "['k', '930', '1159', '968', '1206', '0']\n",
      "['N', '994', '1164', '1027', '1203', '0']\n",
      "['.', '1034', '1164', '1041', '1172', '0']\n",
      "['A', '1045', '1164', '1084', '1202', '0']\n",
      "['.', '1089', '1164', '1096', '1172', '0']\n",
      "['w', '385', '1113', '461', '1140', '0']\n",
      "['w', '464', '1112', '497', '1139', '0']\n",
      "['.', '501', '1112', '504', '1117', '0']\n",
      "['C', '513', '1110', '546', '1151', '0']\n",
      "['r', '553', '1113', '568', '1144', '0']\n",
      "['x', '568', '1111', '576', '1137', '0']\n",
      "['a', '581', '1111', '606', '1139', '0']\n",
      "['s', '610', '1110', '632', '1139', '0']\n",
      "['e', '636', '1109', '661', '1139', '0']\n",
      "['(', '669', '1110', '673', '1114', '0']\n",
      "['c', '681', '1109', '706', '1138', '0']\n",
      "['o', '709', '1109', '735', '1138', '0']\n",
      "['m', '741', '1108', '780', '1137', '0']\n",
      "['~', '0', '135', '4002', '3024', '0']\n"
     ]
    }
   ],
   "source": [
    "imgs=[]\n",
    "grey_img=cv2.cvtColor(orig_img, cv2.COLOR_BGR2GRAY)\n",
    "print(grey_img.shape)\n",
    "for b in boxes.splitlines():\n",
    "    b = b.split(' ')\n",
    "    #img = cv2.rectangle(img, (int(b[1]), h - int(b[2])), (int(b[3]), h - int(b[4])), (0, 255, 0), 2)\n",
    "    #crop=grey_img[]\n",
    "    print(b)"
   ]
  },
  {
   "cell_type": "code",
   "execution_count": 8,
   "metadata": {},
   "outputs": [],
   "source": [
    "crops = np.load(\"./wordsegmentation/save.npy\", allow_pickle=True)"
   ]
  },
  {
   "cell_type": "code",
   "execution_count": 9,
   "metadata": {},
   "outputs": [],
   "source": [
    "# assume boundingbox (x,y,w,h) for each crop in crops !!!!!\n",
    "# generate dummy boundingbox crops data\n",
    "bounding_box=[(0,0,0,0) for i in range(len(crops))] "
   ]
  },
  {
   "cell_type": "code",
   "execution_count": 10,
   "metadata": {},
   "outputs": [],
   "source": [
    "seg_size=[]\n",
    "image_lst=[]\n",
    "debug_box=[]\n",
    "for idx, crop in enumerate(crops):\n",
    "    #cv2.imwrite(test_dir+'orig_'+str(idx)+'.jpg',crop)\n",
    "    sp=crop.shape\n",
    "    if sp[1]/sp[0]<3.6: ########## threshold not sure\n",
    "        seg_size.append(1)\n",
    "        crop_=cv2.transpose(cv2.resize(crop, (args.imgsize[0],args.imgsize[1]), interpolation=cv2.INTER_CUBIC))\n",
    "        crop_=cv2.cvtColor(crop_, cv2.COLOR_BGR2GRAY)\n",
    "        image_lst.append(crop_)\n",
    "    else:\n",
    "        img = prepareImg(crop, 50)\n",
    "        res = wordSegmentation(args,img, kernelSize=25, sigma=11, theta=7, minArea=300)\n",
    "        boxes,images=zip(*res) # the boxes info could be used to generate word level bounding box coordinates\n",
    "        #print(boxes)\n",
    "        boxes,pick=non_max_suppression_wh(boxes)\n",
    "        images_=list(np.array(images)[pick])\n",
    "        seg_size.append(len(boxes))\n",
    "        image_lst+=images_\n",
    "        debug_box+=list(boxes)"
   ]
  },
  {
   "cell_type": "code",
   "execution_count": 11,
   "metadata": {},
   "outputs": [],
   "source": [
    "rec_page=model_recg.inferBatch(image_lst)"
   ]
  },
  {
   "cell_type": "markdown",
   "metadata": {},
   "source": [
    "# log to Commet"
   ]
  },
  {
   "cell_type": "code",
   "execution_count": 12,
   "metadata": {},
   "outputs": [
    {
     "data": {
      "text/plain": [
       "{'api': 'https://www.comet.ml/api/rest/v1/image/get-image?imageId=e3c03dc9d6084b10960fa22ac6487166&experimentKey=809f8e2e9e1543d6a0f9460b6db544f6',\n",
       " 'web': 'https://www.comet.ml/api/image/download?imageId=e3c03dc9d6084b10960fa22ac6487166&experimentKey=809f8e2e9e1543d6a0f9460b6db544f6'}"
      ]
     },
     "execution_count": 12,
     "metadata": {},
     "output_type": "execute_result"
    }
   ],
   "source": [
    "experiment.log_image(test_dir+'check_aeast_detect.jpg')"
   ]
  },
  {
   "cell_type": "code",
   "execution_count": 13,
   "metadata": {},
   "outputs": [
    {
     "data": {
      "image/png": "[encoded data removed]",
      "text/plain": [
       "<matplotlib.figure.Figure at 0x7f7eb52e8748>"
      ]
     },
     "metadata": {
      "needs_background": "light"
     },
     "output_type": "display_data"
    }
   ],
   "source": [
    "im_cum=0\n",
    "for idx,orig_crop in enumerate(crops):\n",
    "    orig_crop=cv2.transpose(cv2.cvtColor(orig_crop, cv2.COLOR_BGR2GRAY))\n",
    "    end_pos=im_cum+seg_size[idx]\n",
    "    img_group=image_lst[im_cum:end_pos]\n",
    "    rec_group=rec_page[im_cum:end_pos]\n",
    "    text='['+str(idx)+']: '+' '.join(rec_group)\n",
    "    #print(orig_crop.shape)\n",
    "    log_image(experiment, cv2.resize(orig_crop, (32,128), interpolation=cv2.INTER_CUBIC), text, '', test_dir, counter=str(idx), epoch=str('A'))\n",
    "    for idxx, mini_crop in enumerate(img_group):\n",
    "        text='['+str(idx)+'.'+str(idxx)+']: '+rec_group[idxx]\n",
    "        log_image(experiment, cv2.resize(mini_crop, (32,128), interpolation=cv2.INTER_CUBIC), text, '', test_dir, counter=str(idx), epoch=str(idxx))\n",
    "    im_cum=end_pos"
   ]
  },
  {
   "cell_type": "code",
   "execution_count": null,
   "metadata": {},
   "outputs": [],
   "source": []
  }
 ],
 "metadata": {
  "kernelspec": {
   "display_name": "Python 3",
   "language": "python",
   "name": "python3"
  },
  "language_info": {
   "codemirror_mode": {
    "name": "ipython",
    "version": 3
   },
   "file_extension": ".py",
   "mimetype": "text/x-python",
   "name": "python",
   "nbconvert_exporter": "python",
   "pygments_lexer": "ipython3",
   "version": "3.5.2"
  }
 },
 "nbformat": 4,
 "nbformat_minor": 2
}
